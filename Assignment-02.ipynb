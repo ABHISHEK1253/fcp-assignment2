{
 "cells": [
  {
   "cell_type": "markdown",
   "id": "828c400f-0519-4334-a24e-697fa75fbf9b",
   "metadata": {},
   "source": [
    "## Problem 1: Digit Count\n",
    "\n",
    "Write a function `digit_count` that takes a number and a digit as argument and returns  the number of times the digit is present in that number."
   ]
  },
  {
   "cell_type": "code",
   "execution_count": 33,
   "id": "18d8e958-25f6-44cf-b732-82b661a7e4ff",
   "metadata": {},
   "outputs": [],
   "source": [
    "def digit_count(x,y):\n",
    "    return str(x).count(str(y))"
   ]
  },
  {
   "cell_type": "code",
   "execution_count": 34,
   "id": "dba93248-5fa0-4d90-bcae-6d210a9af1c6",
   "metadata": {},
   "outputs": [
    {
     "data": {
      "text/plain": [
       "2"
      ]
     },
     "execution_count": 34,
     "metadata": {},
     "output_type": "execute_result"
    }
   ],
   "source": [
    "digit_count(1231, 1)"
   ]
  },
  {
   "cell_type": "code",
   "execution_count": 35,
   "id": "04956220-f268-4842-87c8-1e56a6914e2e",
   "metadata": {},
   "outputs": [
    {
     "data": {
      "text/plain": [
       "1"
      ]
     },
     "execution_count": 35,
     "metadata": {},
     "output_type": "execute_result"
    }
   ],
   "source": [
    "digit_count(1231, 3)"
   ]
  },
  {
   "cell_type": "code",
   "execution_count": 36,
   "id": "005e06e9-7a5c-4632-ab5e-4aae8ff6425c",
   "metadata": {},
   "outputs": [
    {
     "data": {
      "text/plain": [
       "0"
      ]
     },
     "execution_count": 36,
     "metadata": {},
     "output_type": "execute_result"
    }
   ],
   "source": [
    "digit_count(1231, 9)"
   ]
  },
  {
   "cell_type": "markdown",
   "id": "325ccef6-b8ef-4aea-a64a-54e38633fc6d",
   "metadata": {},
   "source": [
    "## Problem 2: Despace\n",
    "\n",
    "Write a function `despace` to remove all the spaces from a string."
   ]
  },
  {
   "cell_type": "code",
   "execution_count": 37,
   "id": "8e067e86-db1b-4143-a4dd-5d46003184b0",
   "metadata": {},
   "outputs": [],
   "source": [
    "def despace(x):\n",
    "    return x.replace(\" \",\"\")\n",
    "    "
   ]
  },
  {
   "cell_type": "code",
   "execution_count": 38,
   "id": "012aa0cc-df32-43df-bef0-378fa5ad53a4",
   "metadata": {},
   "outputs": [
    {
     "data": {
      "text/plain": [
       "'helloworld'"
      ]
     },
     "execution_count": 38,
     "metadata": {},
     "output_type": "execute_result"
    }
   ],
   "source": [
    "despace(\"hello world\")"
   ]
  },
  {
   "cell_type": "code",
   "execution_count": 39,
   "id": "bfd5d6fd-3b38-4122-b186-e11b77166dec",
   "metadata": {},
   "outputs": [
    {
     "data": {
      "text/plain": [
       "'abcde'"
      ]
     },
     "execution_count": 39,
     "metadata": {},
     "output_type": "execute_result"
    }
   ],
   "source": [
    "despace(\"a b c d e\")"
   ]
  },
  {
   "cell_type": "code",
   "execution_count": 40,
   "id": "661d4c3e-211b-4a9f-b591-ca4799dfe0e6",
   "metadata": {},
   "outputs": [
    {
     "data": {
      "text/plain": [
       "'pisecondsisananocentury'"
      ]
     },
     "execution_count": 40,
     "metadata": {},
     "output_type": "execute_result"
    }
   ],
   "source": [
    "despace(\"pi seconds is a nano century\")"
   ]
  },
  {
   "cell_type": "markdown",
   "id": "44ad11fa-e9e1-4b2a-9007-669eb333b6d2",
   "metadata": {},
   "source": [
    "## Problem 3: Reverse Words\n",
    "\n",
    "Write a function `reverse_words` that takes a sentence and returns a new sentence with all the words in the reserse order."
   ]
  },
  {
   "cell_type": "code",
   "execution_count": 41,
   "id": "712fa8fa-e6f6-4530-a448-02fa5092eab6",
   "metadata": {},
   "outputs": [],
   "source": [
    "def reverse_words(x):\n",
    "        return ' '.join(x.split()[::-1])\n",
    "    "
   ]
  },
  {
   "cell_type": "code",
   "execution_count": 42,
   "id": "7c3fbc41-640e-4c12-9555-d789b6dd173e",
   "metadata": {},
   "outputs": [
    {
     "data": {
      "text/plain": [
       "'programming of joy'"
      ]
     },
     "execution_count": 42,
     "metadata": {},
     "output_type": "execute_result"
    }
   ],
   "source": [
    "reverse_words(\"joy of programming\")"
   ]
  },
  {
   "cell_type": "code",
   "execution_count": 43,
   "id": "ed5b0471-19d9-479d-a0c2-d9835495f0ab",
   "metadata": {},
   "outputs": [
    {
     "data": {
      "text/plain": [
       "'more is less'"
      ]
     },
     "execution_count": 43,
     "metadata": {},
     "output_type": "execute_result"
    }
   ],
   "source": [
    "reverse_words(\"less is more\")"
   ]
  },
  {
   "cell_type": "code",
   "execution_count": 44,
   "id": "15ec6b63-7f6f-4359-a438-6c47d7ee5642",
   "metadata": {},
   "outputs": [
    {
     "data": {
      "text/plain": [
       "'on and on ever goes road'"
      ]
     },
     "execution_count": 44,
     "metadata": {},
     "output_type": "execute_result"
    }
   ],
   "source": [
    "reverse_words(\"road goes ever on and on\")"
   ]
  },
  {
   "cell_type": "markdown",
   "id": "ab4b6abf-8b66-4015-8938-2cb1f7b9526e",
   "metadata": {},
   "source": [
    "## Problem 4: Multiple of 3 and 5\n",
    "\n",
    "If we list all the natural numbers below that are multiples of `3` or `5`, we get `3`, `5`, `6`, and `9`. The sum of these multiples is `23`.\n",
    "\n",
    "Write a python program to compute the sum of all the multiples of `3` or `5` below `1000`."
   ]
  },
  {
   "cell_type": "code",
   "execution_count": 45,
   "id": "885eff33-e9dc-48b8-bdb0-a80c1640ace8",
   "metadata": {},
   "outputs": [
    {
     "name": "stdout",
     "output_type": "stream",
     "text": [
      "233168\n"
     ]
    }
   ],
   "source": [
    "x=0\n",
    "for i in range(1,1000):\n",
    "    if i % 3 == 0 or i % 5 == 0:\n",
    "            x = x + i\n",
    "print (x)"
   ]
  },
  {
   "cell_type": "markdown",
   "id": "a09af8ea-ca16-4b72-b1d6-4997fcac9108",
   "metadata": {},
   "source": [
    "## Problem 5: Generate Password\n",
    "\n",
    "Write a function `generate_password` to generate random password of given length.\n",
    "\n",
    "The function should take length `n` as argument and generate a password using mix of letters from lowercase, uppercase from English alphabet and digits. It should not have any other characters."
   ]
  },
  {
   "cell_type": "code",
   "execution_count": 46,
   "id": "3bdd48e6-10e8-499a-8a4a-5689d83ec94d",
   "metadata": {},
   "outputs": [
    {
     "name": "stdout",
     "output_type": "stream",
     "text": [
      "abcdefghijklmnopqrstuvwxyzABCDEFGHIJKLMNOPQRSTUVWXYZ\n",
      "0123456789\n",
      "I\n",
      "3\n"
     ]
    }
   ],
   "source": [
    "import random\n",
    "import string\n",
    "print(string.ascii_letters)\n",
    "print(string.digits)\n",
    "print(random.choice(string.ascii_letters))\n",
    "print(random.choice(string.digits))\n"
   ]
  },
  {
   "cell_type": "code",
   "execution_count": 47,
   "id": "ed74b672-5842-4ea0-acf3-3ad3bfea7006",
   "metadata": {},
   "outputs": [],
   "source": [
    "import random\n",
    "import string\n",
    "def generate_password(n):\n",
    "    x = string.ascii_letters + string.digits\n",
    "    y = random.choice(x)\n",
    "    k=y\n",
    "    for i in range(n-1):\n",
    "        y = random.choice(x)\n",
    "        k=k+y\n",
    "    return k\n"
   ]
  },
  {
   "cell_type": "code",
   "execution_count": 48,
   "id": "d2efc5ad-b259-43f6-8cfb-05d4ff899e7e",
   "metadata": {},
   "outputs": [
    {
     "data": {
      "text/plain": [
       "'qLaUSpYW'"
      ]
     },
     "execution_count": 48,
     "metadata": {},
     "output_type": "execute_result"
    }
   ],
   "source": [
    "generate_password(8)"
   ]
  },
  {
   "cell_type": "code",
   "execution_count": 49,
   "id": "63c04e6a-d175-4c4b-b4cf-da67882e1fe3",
   "metadata": {},
   "outputs": [
    {
     "data": {
      "text/plain": [
       "'WQ1T0dym0w7hknW0GYR6QEM6g'"
      ]
     },
     "execution_count": 49,
     "metadata": {},
     "output_type": "execute_result"
    }
   ],
   "source": [
    "generate_password(25)"
   ]
  },
  {
   "cell_type": "markdown",
   "id": "7a43968f-6bc4-4f15-94b4-fe5fb7ed86e3",
   "metadata": {},
   "source": [
    "## Problem 6: Fortune\n",
    "\n",
    "`fortune` is popular program on Unix that displays a random message from a database of quotations. These  quotes are often funny and witty. \n",
    "\n",
    "Your task is a implement a simpler version of the _fortune_ command. Write a program `fortune.py` that prints a random quote from `fortune.txt` file. The file contains quotes separated by `%`. A sample `fortune.txt` is provided below."
   ]
  },
  {
   "cell_type": "code",
   "execution_count": 50,
   "id": "4355b0fa-6da4-4a4e-9e79-5010a103726b",
   "metadata": {},
   "outputs": [
    {
     "name": "stdout",
     "output_type": "stream",
     "text": [
      "Overwriting fortune.txt\n"
     ]
    }
   ],
   "source": [
    "%%file fortune.txt\n",
    "You will soon forget this.\n",
    "%\n",
    "Too much is just enough.\n",
    "                -- Mark Twain, on whiskey\n",
    "%\n",
    "Q:      Why did the astrophysicist order three hamburgers?\n",
    "A:      Because he was hungry.\n",
    "%\n",
    "You will be aided greatly by a person whom you thought to be unimportant.\n",
    "%\n",
    "Communicate!  It can't make things any worse.\n",
    "%\n",
    "It usually takes more than three weeks to prepare a good impromptu speech.\n",
    "                -- Mark Twain\n",
    "%\n",
    "Write yourself a threatening letter and pen a defiant reply.\n",
    "%\n",
    "You should go home.\n",
    "%\n",
    "You are taking yourself far too seriously.\n",
    "%\n",
    "Q:      Do you know what the death rate around here is?\n",
    "A:      One per person.\n",
    "%\n",
    "You need no longer worry about the future.  This time tomorrow you'll be dead. "
   ]
  },
  {
   "cell_type": "code",
   "execution_count": 51,
   "id": "9de3308c-71a8-432d-9297-c2e0060e9b51",
   "metadata": {},
   "outputs": [
    {
     "name": "stdout",
     "output_type": "stream",
     "text": [
      "Overwriting fortune.py\n"
     ]
    }
   ],
   "source": [
    "%%file fortune.py\n",
    "import random\n",
    "content=open(\"fortune.txt\").read()\n",
    "quotes = content.split(\"%\")\n",
    "print(random.choice(quotes))"
   ]
  },
  {
   "cell_type": "code",
   "execution_count": 52,
   "id": "11fb83c4-6a33-48c7-8550-62ecbb19b359",
   "metadata": {},
   "outputs": [
    {
     "name": "stdout",
     "output_type": "stream",
     "text": [
      "\n",
      "Write yourself a threatening letter and pen a defiant reply.\n",
      "\n"
     ]
    }
   ],
   "source": [
    "!python fortune.py"
   ]
  },
  {
   "cell_type": "code",
   "execution_count": 53,
   "id": "6d957ad9-bfeb-408f-9c57-240c24ae6e20",
   "metadata": {},
   "outputs": [
    {
     "name": "stdout",
     "output_type": "stream",
     "text": [
      "\n",
      "Q:      Do you know what the death rate around here is?\n",
      "A:      One per person.\n",
      "\n"
     ]
    }
   ],
   "source": [
    "!python fortune.py"
   ]
  },
  {
   "cell_type": "markdown",
   "id": "dbda7a8e-fa9c-4e2b-ab7f-a0a16d8b3cb5",
   "metadata": {},
   "source": [
    "## Problem 7 : Countdown\n",
    "\n",
    "Write a program `countdown.py` to print numbers from `n` to 1.\n",
    "\n",
    "The program should take the number `n` as command-line argument."
   ]
  },
  {
   "cell_type": "code",
   "execution_count": 54,
   "id": "6ba17807-0a87-405a-b1e7-7ae01ad4d44b",
   "metadata": {},
   "outputs": [
    {
     "name": "stdout",
     "output_type": "stream",
     "text": [
      "Overwriting countdown.py\n"
     ]
    }
   ],
   "source": [
    "%%file countdown.py\n",
    "import sys\n",
    "n=int(sys.argv[1])\n",
    "for i in range(n):\n",
    "    print (n-i)"
   ]
  },
  {
   "cell_type": "code",
   "execution_count": 55,
   "id": "1a341668-69a2-42ef-bb5d-e045e59dfdfa",
   "metadata": {},
   "outputs": [
    {
     "name": "stdout",
     "output_type": "stream",
     "text": [
      "5\n",
      "4\n",
      "3\n",
      "2\n",
      "1\n"
     ]
    }
   ],
   "source": [
    "!python countdown.py 5"
   ]
  },
  {
   "cell_type": "markdown",
   "id": "d5323c7f-9248-49ac-9b3e-4565363080e5",
   "metadata": {},
   "source": [
    "## Problem 8: Largest Number in a File\n",
    "\n",
    "Write a function `largest_number_in_file` that takes a name of a file containing numbers as an arguments and returns largest number in that file."
   ]
  },
  {
   "cell_type": "code",
   "execution_count": 56,
   "id": "5e01f1f1-bc25-4b83-a4f5-95f50aaca9b2",
   "metadata": {},
   "outputs": [
    {
     "name": "stdout",
     "output_type": "stream",
     "text": [
      "Overwriting 5.txt\n"
     ]
    }
   ],
   "source": [
    "%%file 5.txt\n",
    "1\n",
    "2\n",
    "3\n",
    "4\n",
    "5"
   ]
  },
  {
   "cell_type": "code",
   "execution_count": 57,
   "id": "11f8e9c4-50d2-4289-a439-8dcc2ecd8ffb",
   "metadata": {},
   "outputs": [
    {
     "name": "stdout",
     "output_type": "stream",
     "text": [
      "Overwriting numbers.txt\n"
     ]
    }
   ],
   "source": [
    "%%file numbers.txt\n",
    "1\n",
    "16\n",
    "12\n",
    "37\n",
    "42\n",
    "19\n",
    "9\n",
    "15\n",
    "18\n",
    "24"
   ]
  },
  {
   "cell_type": "code",
   "execution_count": 58,
   "id": "4587a52c-edb2-451f-b747-593c4e5c1578",
   "metadata": {},
   "outputs": [],
   "source": [
    "def largest_number_in_file(file): \n",
    "    numbers=open(file).readlines()\n",
    "    return max([int(number) for number in numbers])"
   ]
  },
  {
   "cell_type": "code",
   "execution_count": 59,
   "id": "03474f6c-d401-405f-91bc-b284cadff327",
   "metadata": {},
   "outputs": [
    {
     "data": {
      "text/plain": [
       "5"
      ]
     },
     "execution_count": 59,
     "metadata": {},
     "output_type": "execute_result"
    }
   ],
   "source": [
    "largest_number_in_file(\"5.txt\")"
   ]
  },
  {
   "cell_type": "code",
   "execution_count": 60,
   "id": "1af46777-54fd-4f7d-88fc-a0058b8510ff",
   "metadata": {},
   "outputs": [
    {
     "data": {
      "text/plain": [
       "42"
      ]
     },
     "execution_count": 60,
     "metadata": {},
     "output_type": "execute_result"
    }
   ],
   "source": [
    "largest_number_in_file(\"numbers.txt\")"
   ]
  },
  {
   "cell_type": "markdown",
   "id": "606d8dd8-56f8-46f7-8615-6da64a44c1ec",
   "metadata": {},
   "source": [
    "## Problem 9: Plot $y = x^2$ and $y = 2^x$\n",
    "\n",
    "Write a python program to plot $y = x^2$ and $y = 2^x$ in the range $[-2, 2]$. Both the plots should appear in the same graph and add legend to label the plots. Please use latex math expressions for the labels to write $x^2$ and $2^x$."
   ]
  },
  {
   "cell_type": "code",
   "execution_count": 61,
   "id": "9c047977-fb45-4483-a1ab-40bf9bd07523",
   "metadata": {},
   "outputs": [
    {
     "data": {
      "text/plain": [
       "<matplotlib.legend.Legend at 0x2ab98c79430>"
      ]
     },
     "execution_count": 61,
     "metadata": {},
     "output_type": "execute_result"
    },
    {
     "data": {
      "image/png": "[encoded data removed]",
      "text/plain": [
       "<Figure size 640x480 with 1 Axes>"
      ]
     },
     "metadata": {},
     "output_type": "display_data"
    }
   ],
   "source": [
    "import numpy as np\n",
    "import matplotlib.pyplot as plt\n",
    "x = np.linspace(-2,2,50)\n",
    "plt.plot(x, x*x, label=\"$x^2$\")\n",
    "plt.plot(x, 2**x, label=\"$2^x$\")\n",
    "plt.grid()\n",
    "plt.legend()"
   ]
  },
  {
   "cell_type": "markdown",
   "id": "c883054c-7fdb-46d6-b491-d136655d7047",
   "metadata": {},
   "source": [
    "## Problem 10: Manhattan Distance\n",
    "\n",
    "Write a function `manhattan_distance` to compute the manhattan distance between two vectors.\n",
    "\n",
    "The manhattan distance is defined as:\n",
    "\n",
    "$M(p, q) = \\sum_{i=1}^{n}{| p_i - q_i |}$"
   ]
  },
  {
   "cell_type": "code",
   "execution_count": 62,
   "id": "564c4058-4ef9-4c5d-92a6-a0243ddb394b",
   "metadata": {},
   "outputs": [],
   "source": [
    "def manhanttan_distance(p, q):\n",
    "    return np.sum(np.abs(p - q))"
   ]
  },
  {
   "cell_type": "code",
   "execution_count": 63,
   "id": "27347595-ae8e-442a-b768-45cae583030b",
   "metadata": {},
   "outputs": [
    {
     "data": {
      "text/plain": [
       "np.int64(7)"
      ]
     },
     "execution_count": 63,
     "metadata": {},
     "output_type": "execute_result"
    }
   ],
   "source": [
    "manhanttan_distance(np.array([0,0]), np.array([3, 4]))"
   ]
  },
  {
   "cell_type": "code",
   "execution_count": null,
   "id": "1226ec52-7872-4395-a825-414946c24a16",
   "metadata": {},
   "outputs": [],
   "source": []
  },
  {
   "cell_type": "code",
   "execution_count": null,
   "id": "9a885705-520c-42f0-9f0e-f77b0aca3035",
   "metadata": {},
   "outputs": [],
   "source": []
  }
 ],
 "metadata": {
  "kernelspec": {
   "display_name": "Python 3 (ipykernel)",
   "language": "python",
   "name": "python3"
  },
  "language_info": {
   "codemirror_mode": {
    "name": "ipython",
    "version": 3
   },
   "file_extension": ".py",
   "mimetype": "text/x-python",
   "name": "python",
   "nbconvert_exporter": "python",
   "pygments_lexer": "ipython3",
   "version": "3.12.5"
  },
  "widgets": {
   "application/vnd.jupyter.widget-state+json": {
    "state": {},
    "version_major": 2,
    "version_minor": 0
   }
  }
 },
 "nbformat": 4,
 "nbformat_minor": 5
}
